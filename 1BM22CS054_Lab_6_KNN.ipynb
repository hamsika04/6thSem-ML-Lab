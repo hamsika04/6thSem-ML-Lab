{
  "nbformat": 4,
  "nbformat_minor": 0,
  "metadata": {
    "colab": {
      "provenance": [],
      "authorship_tag": "ABX9TyO1U/+5R3UYS9BwKcnJG67M",
      "include_colab_link": true
    },
    "kernelspec": {
      "name": "python3",
      "display_name": "Python 3"
    },
    "language_info": {
      "name": "python"
    }
  },
  "cells": [
    {
      "cell_type": "markdown",
      "metadata": {
        "id": "view-in-github",
        "colab_type": "text"
      },
      "source": [
        "<a href=\"https://colab.research.google.com/github/hamsika04/6thSem-ML-Lab/blob/main/1BM22CS054_Lab_6_KNN.ipynb\" target=\"_parent\"><img src=\"https://colab.research.google.com/assets/colab-badge.svg\" alt=\"Open In Colab\"/></a>"
      ]
    },
    {
      "cell_type": "code",
      "source": [
        "from sklearn.neighbors import KNeighborsClassifier\n",
        "from sklearn.metrics import classification_report, confusion_matrix, accuracy_score\n",
        "from sklearn.model_selection import train_test_split\n",
        "import pandas as pd\n",
        "\n",
        "# Load the IRIS dataset\n",
        "iris_data = pd.read_csv(\"iris.csv\")\n",
        "X_iris = iris_data.iloc[:, :-1]  # Features\n",
        "y_iris = iris_data.iloc[:, -1]   # Target\n",
        "\n",
        "# Split dataset (80% training, 20% testing)\n",
        "X_train_iris, X_test_iris, y_train_iris, y_test_iris = train_test_split(X_iris, y_iris, test_size=0.2, random_state=42)\n",
        "\n",
        "# Build and train KNN classifier for IRIS dataset\n",
        "knn_classifier = KNeighborsClassifier(n_neighbors=3)  # Choose an appropriate k value\n",
        "knn_classifier.fit(X_train_iris, y_train_iris)\n",
        "\n",
        "# Predict and evaluate KNN model\n",
        "y_pred_iris = knn_classifier.predict(X_test_iris)\n",
        "\n",
        "# Accuracy score\n",
        "print(\"Accuracy Score:\", accuracy_score(y_test_iris, y_pred_iris))\n",
        "\n",
        "# Confusion matrix\n",
        "print(\"Confusion Matrix:\\n\", confusion_matrix(y_test_iris, y_pred_iris))\n",
        "\n",
        "# Classification report\n",
        "print(\"Classification Report:\\n\", classification_report(y_test_iris, y_pred_iris))\n"
      ],
      "metadata": {
        "colab": {
          "base_uri": "https://localhost:8080/"
        },
        "id": "CVyJ45VJcmJc",
        "outputId": "ef065e2f-3e00-4fdf-bafd-028f48632611"
      },
      "execution_count": 4,
      "outputs": [
        {
          "output_type": "stream",
          "name": "stdout",
          "text": [
            "Accuracy Score: 1.0\n",
            "Confusion Matrix:\n",
            " [[10  0  0]\n",
            " [ 0  9  0]\n",
            " [ 0  0 11]]\n",
            "Classification Report:\n",
            "               precision    recall  f1-score   support\n",
            "\n",
            "      setosa       1.00      1.00      1.00        10\n",
            "  versicolor       1.00      1.00      1.00         9\n",
            "   virginica       1.00      1.00      1.00        11\n",
            "\n",
            "    accuracy                           1.00        30\n",
            "   macro avg       1.00      1.00      1.00        30\n",
            "weighted avg       1.00      1.00      1.00        30\n",
            "\n"
          ]
        }
      ]
    },
    {
      "cell_type": "code",
      "source": [
        "from sklearn.neighbors import KNeighborsClassifier\n",
        "from sklearn.model_selection import train_test_split\n",
        "from sklearn.metrics import accuracy_score, confusion_matrix\n",
        "from sklearn.preprocessing import StandardScaler\n",
        "import pandas as pd\n",
        "\n",
        "# Load the diabetes dataset (assuming the dataset is in CSV format)\n",
        "diabetes_data = pd.read_csv(\"diabetes.csv\")\n",
        "\n",
        "# Features and target variable\n",
        "X_diabetes = diabetes_data.iloc[:, :-1]  # Features (all columns except the last one)\n",
        "y_diabetes = diabetes_data.iloc[:, -1]   # Target variable (last column)\n",
        "\n",
        "# Split the dataset (80% training, 20% testing)\n",
        "X_train_diabetes, X_test_diabetes, y_train_diabetes, y_test_diabetes = train_test_split(\n",
        "    X_diabetes, y_diabetes, test_size=0.2, random_state=42)\n",
        "\n",
        "# Perform feature scaling (Standardization)\n",
        "scaler = StandardScaler()\n",
        "X_train_diabetes = scaler.fit_transform(X_train_diabetes)\n",
        "X_test_diabetes = scaler.transform(X_test_diabetes)\n",
        "\n",
        "# Build and train KNN classifier for the diabetes dataset\n",
        "knn_classifier = KNeighborsClassifier(n_neighbors=5)  # Choose an appropriate k value (5 is common)\n",
        "knn_classifier.fit(X_train_diabetes, y_train_diabetes)\n",
        "\n",
        "# Predict and evaluate KNN model\n",
        "y_pred_diabetes = knn_classifier.predict(X_test_diabetes)\n",
        "\n",
        "# Accuracy score\n",
        "print(\"Accuracy Score:\", accuracy_score(y_test_diabetes, y_pred_diabetes))\n",
        "\n",
        "# Confusion matrix\n",
        "print(\"Confusion Matrix:\\n\", confusion_matrix(y_test_diabetes, y_pred_diabetes))\n"
      ],
      "metadata": {
        "colab": {
          "base_uri": "https://localhost:8080/"
        },
        "id": "WA0Fh3HYb4q0",
        "outputId": "ab7984ff-e476-4eee-a4c6-875a51c306f3"
      },
      "execution_count": 2,
      "outputs": [
        {
          "output_type": "stream",
          "name": "stdout",
          "text": [
            "Accuracy Score: 0.6948051948051948\n",
            "Confusion Matrix:\n",
            " [[79 20]\n",
            " [27 28]]\n"
          ]
        }
      ]
    },
    {
      "cell_type": "code",
      "source": [
        "import pandas as pd\n",
        "import numpy as np\n",
        "from sklearn.model_selection import train_test_split\n",
        "from sklearn.neighbors import KNeighborsClassifier\n",
        "from sklearn.metrics import accuracy_score, confusion_matrix, classification_report\n",
        "import matplotlib.pyplot as plt\n",
        "import seaborn as sns\n",
        "from sklearn.preprocessing import StandardScaler\n",
        "\n",
        "# Load the heart dataset (assuming the dataset is in CSV format)\n",
        "heart_data = pd.read_csv(\"heart.csv\")\n",
        "\n",
        "# Features and target variable\n",
        "X_heart = heart_data.iloc[:, :-1]  # Features (all columns except the last one)\n",
        "y_heart = heart_data.iloc[:, -1]   # Target variable (last column)\n",
        "\n",
        "# Split the dataset (80% training, 20% testing)\n",
        "X_train_heart, X_test_heart, y_train_heart, y_test_heart = train_test_split(\n",
        "    X_heart, y_heart, test_size=0.2, random_state=42)\n",
        "\n",
        "# Perform feature scaling (Standardization)\n",
        "scaler = StandardScaler()\n",
        "X_train_heart = scaler.fit_transform(X_train_heart)\n",
        "X_test_heart = scaler.transform(X_test_heart)\n",
        "\n",
        "# Try different k values and choose the best one\n",
        "k_values = range(1, 21)  # Trying values of k from 1 to 20\n",
        "best_k = 1\n",
        "best_score = 0\n",
        "\n",
        "for k in k_values:\n",
        "    knn_classifier = KNeighborsClassifier(n_neighbors=k)\n",
        "    knn_classifier.fit(X_train_heart, y_train_heart)\n",
        "    y_pred_heart = knn_classifier.predict(X_test_heart)\n",
        "    score = accuracy_score(y_test_heart, y_pred_heart)\n",
        "\n",
        "    if score > best_score:\n",
        "        best_score = score\n",
        "        best_k = k\n",
        "\n",
        "print(f\"Best value of k: {best_k} with accuracy: {best_score}\")\n",
        "\n",
        "# Train the KNN classifier with the best k value\n",
        "knn_classifier = KNeighborsClassifier(n_neighbors=best_k)\n",
        "knn_classifier.fit(X_train_heart, y_train_heart)\n",
        "\n",
        "# Predict and evaluate KNN model\n",
        "y_pred_heart = knn_classifier.predict(X_test_heart)\n",
        "\n",
        "# Accuracy score\n",
        "print(\"Accuracy Score:\", accuracy_score(y_test_heart, y_pred_heart))\n",
        "\n",
        "# Confusion matrix\n",
        "conf_matrix = confusion_matrix(y_test_heart, y_pred_heart)\n",
        "print(\"Confusion Matrix:\\n\", conf_matrix)\n",
        "\n",
        "# Plot confusion matrix\n",
        "plt.figure(figsize=(6, 5))\n",
        "sns.heatmap(conf_matrix, annot=True, fmt=\"d\", cmap=\"Blues\", cbar=False, xticklabels=[\"No Disease\", \"Disease\"], yticklabels=[\"No Disease\", \"Disease\"])\n",
        "plt.title(\"Confusion Matrix\")\n",
        "plt.xlabel(\"Predicted\")\n",
        "plt.ylabel(\"Actual\")\n",
        "plt.show()\n",
        "\n",
        "# Classification report\n",
        "class_report = classification_report(y_test_heart, y_pred_heart)\n",
        "print(\"Classification Report:\\n\", class_report)\n",
        "\n",
        "# Plot classification report (optional, using text or matplotlib)\n",
        "# You can display this report in a more readable way or save it\n"
      ],
      "metadata": {
        "colab": {
          "base_uri": "https://localhost:8080/",
          "height": 747
        },
        "id": "IS4XhJM4cK9j",
        "outputId": "94f594c5-a75f-4426-ff8a-99ba9ee52701"
      },
      "execution_count": 3,
      "outputs": [
        {
          "output_type": "stream",
          "name": "stdout",
          "text": [
            "Best value of k: 7 with accuracy: 0.9180327868852459\n",
            "Accuracy Score: 0.9180327868852459\n",
            "Confusion Matrix:\n",
            " [[27  2]\n",
            " [ 3 29]]\n"
          ]
        },
        {
          "output_type": "display_data",
          "data": {
            "text/plain": [
              "<Figure size 600x500 with 1 Axes>"
            ],
            "image/png": "[encoded data removed]"
          },
          "metadata": {}
        },
        {
          "output_type": "stream",
          "name": "stdout",
          "text": [
            "Classification Report:\n",
            "               precision    recall  f1-score   support\n",
            "\n",
            "           0       0.90      0.93      0.92        29\n",
            "           1       0.94      0.91      0.92        32\n",
            "\n",
            "    accuracy                           0.92        61\n",
            "   macro avg       0.92      0.92      0.92        61\n",
            "weighted avg       0.92      0.92      0.92        61\n",
            "\n"
          ]
        }
      ]
    }
  ]
}