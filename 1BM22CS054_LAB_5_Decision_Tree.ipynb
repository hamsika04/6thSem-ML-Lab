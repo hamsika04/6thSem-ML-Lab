{
  "nbformat": 4,
  "nbformat_minor": 0,
  "metadata": {
    "colab": {
      "provenance": [],
      "authorship_tag": "ABX9TyNMzY+Y8n2B8J6E4fJEwcr8",
      "include_colab_link": true
    },
    "kernelspec": {
      "name": "python3",
      "display_name": "Python 3"
    },
    "language_info": {
      "name": "python"
    }
  },
  "cells": [
    {
      "cell_type": "markdown",
      "metadata": {
        "id": "view-in-github",
        "colab_type": "text"
      },
      "source": [
        "<a href=\"https://colab.research.google.com/github/hamsika04/6thSem-ML-Lab/blob/main/1BM22CS054_Decision_Tree.ipynb\" target=\"_parent\"><img src=\"https://colab.research.google.com/assets/colab-badge.svg\" alt=\"Open In Colab\"/></a>"
      ]
    },
    {
      "cell_type": "code",
      "execution_count": null,
      "metadata": {
        "colab": {
          "base_uri": "https://localhost:8080/"
        },
        "id": "DCTDkqDMW6n0",
        "outputId": "3691f7a9-1c71-4ba8-f086-3e2b13e0e82f"
      },
      "outputs": [
        {
          "output_type": "stream",
          "name": "stdout",
          "text": [
            "IRIS Dataset Accuracy: 1.0\n",
            "IRIS Dataset Confusion Matrix:\n",
            " [[10  0  0]\n",
            " [ 0  9  0]\n",
            " [ 0  0 11]]\n"
          ]
        }
      ],
      "source": [
        "import pandas as pd\n",
        "import numpy as np\n",
        "from sklearn.model_selection import train_test_split\n",
        "from sklearn.tree import DecisionTreeClassifier\n",
        "from sklearn.metrics import accuracy_score, confusion_matrix\n",
        "\n",
        "# Load the IRIS dataset\n",
        "iris_data = pd.read_csv(\"iris.csv\")\n",
        "X_iris = iris_data.iloc[:, :-1]  # Features\n",
        "y_iris = iris_data.iloc[:, -1]   # Target\n",
        "\n",
        "# Split dataset (80% training, 20% testing)\n",
        "X_train_iris, X_test_iris, y_train_iris, y_test_iris = train_test_split(X_iris, y_iris, test_size=0.2, random_state=42)\n",
        "\n",
        "# Build and train Decision Tree classifier for IRIS dataset\n",
        "iris_classifier = DecisionTreeClassifier()\n",
        "iris_classifier.fit(X_train_iris, y_train_iris)\n",
        "\n",
        "# Predict and evaluate IRIS model\n",
        "y_pred_iris = iris_classifier.predict(X_test_iris)\n",
        "print(\"IRIS Dataset Accuracy:\", accuracy_score(y_test_iris, y_pred_iris))\n",
        "print(\"IRIS Dataset Confusion Matrix:\\n\", confusion_matrix(y_test_iris, y_pred_iris))\n"
      ]
    },
    {
      "cell_type": "code",
      "source": [
        "from sklearn.preprocessing import LabelEncoder\n",
        "\n",
        "# Load the Drug dataset\n",
        "drug_data = pd.read_csv(\"drug.csv\")\n",
        "\n",
        "# Encode categorical features\n",
        "label_encoders = {}\n",
        "for column in drug_data.columns[:-1]:  # Exclude target column\n",
        "    if drug_data[column].dtype == 'object':  # Check if the column is categorical\n",
        "        le = LabelEncoder()\n",
        "        drug_data[column] = le.fit_transform(drug_data[column])\n",
        "        label_encoders[column] = le  # Store encoder for future reference\n",
        "\n",
        "# Features and target\n",
        "X_drug = drug_data.iloc[:, :-1]\n",
        "y_drug = drug_data.iloc[:, -1]\n",
        "\n",
        "# Split dataset (80% training, 20% testing)\n",
        "X_train_drug, X_test_drug, y_train_drug, y_test_drug = train_test_split(X_drug, y_drug, test_size=0.2, random_state=42)\n",
        "\n",
        "# Build and train Decision Tree classifier for Drug dataset\n",
        "drug_classifier = DecisionTreeClassifier()\n",
        "drug_classifier.fit(X_train_drug, y_train_drug)\n",
        "\n",
        "# Predict and evaluate Drug model\n",
        "y_pred_drug = drug_classifier.predict(X_test_drug)\n",
        "print(\"Drug Dataset Accuracy:\", accuracy_score(y_test_drug, y_pred_drug))\n",
        "print(\"Drug Dataset Confusion Matrix:\\n\", confusion_matrix(y_test_drug, y_pred_drug))\n"
      ],
      "metadata": {
        "colab": {
          "base_uri": "https://localhost:8080/"
        },
        "id": "4uF1Nj3sZOgM",
        "outputId": "78c4f03b-f79c-446c-bf24-59ac91caf0cb"
      },
      "execution_count": null,
      "outputs": [
        {
          "output_type": "stream",
          "name": "stdout",
          "text": [
            "Drug Dataset Accuracy: 1.0\n",
            "Drug Dataset Confusion Matrix:\n",
            " [[ 6  0  0  0  0]\n",
            " [ 0  3  0  0  0]\n",
            " [ 0  0  5  0  0]\n",
            " [ 0  0  0 11  0]\n",
            " [ 0  0  0  0 15]]\n"
          ]
        }
      ]
    },
    {
      "cell_type": "code",
      "source": [
        "import pandas as pd\n",
        "import numpy as np\n",
        "from sklearn.model_selection import train_test_split\n",
        "from sklearn.tree import DecisionTreeRegressor\n",
        "from sklearn.metrics import mean_absolute_error, mean_squared_error\n",
        "\n",
        "# Load the Petrol Consumption dataset\n",
        "petrol_data = pd.read_csv(\"petrol_consumption.csv\")\n",
        "X_petrol = petrol_data.iloc[:, :-1]  # Features\n",
        "y_petrol = petrol_data.iloc[:, -1]   # Target\n",
        "\n",
        "# Split dataset (80% training, 20% testing)\n",
        "X_train_petrol, X_test_petrol, y_train_petrol, y_test_petrol = train_test_split(X_petrol, y_petrol, test_size=0.2, random_state=42)\n",
        "\n",
        "# Build and train Regression Tree for Petrol Consumption\n",
        "petrol_regressor = DecisionTreeRegressor()\n",
        "petrol_regressor.fit(X_train_petrol, y_train_petrol)\n",
        "\n",
        "# Predict and evaluate Petrol model\n",
        "y_pred_petrol = petrol_regressor.predict(X_test_petrol)\n",
        "print(\"Mean Absolute Error:\", mean_absolute_error(y_test_petrol, y_pred_petrol))\n",
        "print(\"Mean Squared Error:\", mean_squared_error(y_test_petrol, y_pred_petrol))\n",
        "print(\"Root Mean Squared Error:\", np.sqrt(mean_squared_error(y_test_petrol, y_pred_petrol)))\n"
      ],
      "metadata": {
        "colab": {
          "base_uri": "https://localhost:8080/"
        },
        "id": "RRpG3pFZZWy8",
        "outputId": "4bdde270-1cd4-429f-d796-cc92c1f532ac"
      },
      "execution_count": null,
      "outputs": [
        {
          "output_type": "stream",
          "name": "stdout",
          "text": [
            "Mean Absolute Error: 86.5\n",
            "Mean Squared Error: 15607.7\n",
            "Root Mean Squared Error: 124.9307808348287\n"
          ]
        }
      ]
    }
  ]
}
